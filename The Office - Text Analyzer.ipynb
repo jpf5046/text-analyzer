{
 "cells": [
  {
   "cell_type": "markdown",
   "metadata": {},
   "source": [
    "# What Office Character Do You Talk Like?\n",
    "\n",
    "\n",
    "\n",
    "We are going to download all of The Office scripts and put them in a python dataframe. \n",
    "\n",
    "* Find source data of scripts\n",
    "* pull into python\n",
    "* transform the data into easy to work with dataframes\n",
    "* run sentiment analysis on each character's line\n",
    "* create a function asking for end users input\n",
    "\n",
    "\n",
    "<hr size=\"5\"/>"
   ]
  },
  {
   "cell_type": "markdown",
   "metadata": {},
   "source": [
    "### Table of Contents\n",
    "* [1. Finding Script Data](#Finding-Script-Data)\n",
    "* [2. Data Manipulation](#Fixing-Inconsistancies)\n",
    "* [3. Sentiment](#Sentiment)"
   ]
  },
  {
   "cell_type": "markdown",
   "metadata": {},
   "source": [
    "# Finding the Text to Every Episode's Script"
   ]
  },
  {
   "cell_type": "markdown",
   "metadata": {},
   "source": [
    "There is a Google docs sheet that has exactly what we are looking for located [here](https://docs.google.com/spreadsheets/d/18wS5AAwOh8QO95RwHLS95POmSNKA2jjzdt0phrxeAE0/edit#gid=747974534). We should download and save thsi to our desktop. We can pull the dataframe into python by using `pandas`. "
   ]
  },
  {
   "cell_type": "code",
   "execution_count": 2,
   "metadata": {},
   "outputs": [],
   "source": [
    "import pandas as pd \n",
    "\n",
    "the_office_raw_script = pd.read_excel(r\"C:\\Users\\JF\\Desktop\\the-office-lines.xlsx\")"
   ]
  },
  {
   "cell_type": "markdown",
   "metadata": {},
   "source": [
    "Some general tips for looking at a dataframe. \n",
    "* How many rows does it have?\n",
    "* What are the column names?\n",
    "* Group by count.\n"
   ]
  },
  {
   "cell_type": "code",
   "execution_count": 3,
   "metadata": {},
   "outputs": [
    {
     "data": {
      "text/plain": [
       "59909"
      ]
     },
     "execution_count": 3,
     "metadata": {},
     "output_type": "execute_result"
    }
   ],
   "source": [
    "# How many rows?\n",
    "len(the_office_raw_script.index)"
   ]
  },
  {
   "cell_type": "markdown",
   "metadata": {},
   "source": [
    "59,909 lines of dialog happened in The Office!"
   ]
  },
  {
   "cell_type": "code",
   "execution_count": 4,
   "metadata": {},
   "outputs": [
    {
     "data": {
      "text/plain": [
       "['id',\n",
       " 'season',\n",
       " 'episode',\n",
       " 'scene',\n",
       " 'line_text',\n",
       " 'speaker',\n",
       " 'deleted',\n",
       " 'Stage1']"
      ]
     },
     "execution_count": 4,
     "metadata": {},
     "output_type": "execute_result"
    }
   ],
   "source": [
    "# Column names?\n",
    "list(the_office_raw_script)"
   ]
  },
  {
   "cell_type": "markdown",
   "metadata": {},
   "source": [
    "We have eight columns, looks like `speaker` is the column we are going to be most interested in. "
   ]
  },
  {
   "cell_type": "code",
   "execution_count": 5,
   "metadata": {},
   "outputs": [],
   "source": [
    "# How many speakers have over 100 scenes?\n",
    "s = the_office_raw_script.groupby('speaker').scene.count()\n",
    "# s[s > 100].index.tolist()"
   ]
  },
  {
   "cell_type": "markdown",
   "metadata": {},
   "source": [
    "# Fixing Inconsistancies\n",
    "\n",
    "* Fix capalization\n",
    "* Fix spelling\n",
    "\n"
   ]
  },
  {
   "cell_type": "code",
   "execution_count": 6,
   "metadata": {},
   "outputs": [],
   "source": [
    "#Capalization\n",
    "the_office_raw_script['speaker'] = the_office_raw_script['speaker'].str.lower()"
   ]
  },
  {
   "cell_type": "code",
   "execution_count": 7,
   "metadata": {},
   "outputs": [],
   "source": [
    "# Fix Spelling\n",
    "the_office_raw_script['speaker']  = the_office_raw_script['speaker'].replace(['micheal', 'michel', 'michal', 'Michael [on phone]'], 'michael')"
   ]
  },
  {
   "cell_type": "markdown",
   "metadata": {},
   "source": [
    "# Sentiment\n",
    "* import `TextBlob`"
   ]
  },
  {
   "cell_type": "code",
   "execution_count": 8,
   "metadata": {},
   "outputs": [],
   "source": [
    "from textblob import TextBlob\n",
    "from vaderSentiment.vaderSentiment import SentimentIntensityAnalyzer \n",
    "analyser = SentimentIntensityAnalyzer()"
   ]
  },
  {
   "cell_type": "code",
   "execution_count": 9,
   "metadata": {},
   "outputs": [],
   "source": [
    "def sentiment_analyzer_scores(sentence):\n",
    "    score = analyser.polarity_scores(sentence)"
   ]
  },
  {
   "cell_type": "code",
   "execution_count": 10,
   "metadata": {},
   "outputs": [],
   "source": [
    "the_office_raw_script['subjectivity'] = the_office_raw_script['line_text'].apply(lambda x: TextBlob(x).sentiment.subjectivity)\n",
    "\n",
    "the_office_raw_script['polarity'] = the_office_raw_script['line_text'].apply(lambda x: TextBlob(x).sentiment.polarity)\n",
    "\n",
    "the_office_raw_script['scores'] = the_office_raw_script['line_text'].apply(lambda x: analyser.polarity_scores(x))\n",
    "\n"
   ]
  },
  {
   "cell_type": "code",
   "execution_count": 12,
   "metadata": {},
   "outputs": [],
   "source": [
    "# using the following link to transform [scores] to four columns \n",
    "# https://stackoverflow.com/questions/50512188/unpack-dictionary-from-pandas-column\n",
    "scores = the_office_raw_script['scores']\n",
    "scores_spread = pd.DataFrame.from_records(scores.tolist())"
   ]
  },
  {
   "cell_type": "code",
   "execution_count": 13,
   "metadata": {},
   "outputs": [],
   "source": [
    "the_office_raw_script = pd.concat([scores_spread, the_office_raw_script], axis=1)"
   ]
  },
  {
   "cell_type": "code",
   "execution_count": 14,
   "metadata": {},
   "outputs": [
    {
     "data": {
      "text/html": [
       "<div>\n",
       "<style scoped>\n",
       "    .dataframe tbody tr th:only-of-type {\n",
       "        vertical-align: middle;\n",
       "    }\n",
       "\n",
       "    .dataframe tbody tr th {\n",
       "        vertical-align: top;\n",
       "    }\n",
       "\n",
       "    .dataframe thead th {\n",
       "        text-align: right;\n",
       "    }\n",
       "</style>\n",
       "<table border=\"1\" class=\"dataframe\">\n",
       "  <thead>\n",
       "    <tr style=\"text-align: right;\">\n",
       "      <th></th>\n",
       "      <th>compound</th>\n",
       "      <th>neg</th>\n",
       "      <th>neu</th>\n",
       "      <th>pos</th>\n",
       "      <th>id</th>\n",
       "      <th>season</th>\n",
       "      <th>episode</th>\n",
       "      <th>scene</th>\n",
       "      <th>line_text</th>\n",
       "      <th>speaker</th>\n",
       "      <th>deleted</th>\n",
       "      <th>Stage1</th>\n",
       "      <th>subjectivity</th>\n",
       "      <th>polarity</th>\n",
       "      <th>scores</th>\n",
       "    </tr>\n",
       "  </thead>\n",
       "  <tbody>\n",
       "    <tr>\n",
       "      <th>0</th>\n",
       "      <td>0.4927</td>\n",
       "      <td>0.0</td>\n",
       "      <td>0.803</td>\n",
       "      <td>0.197</td>\n",
       "      <td>1</td>\n",
       "      <td>1</td>\n",
       "      <td>1</td>\n",
       "      <td>1</td>\n",
       "      <td>All right Jim. Your quarterlies look very good...</td>\n",
       "      <td>michael</td>\n",
       "      <td>False</td>\n",
       "      <td>Michael</td>\n",
       "      <td>0.657857</td>\n",
       "      <td>0.597857</td>\n",
       "      <td>{'neg': 0.0, 'neu': 0.803, 'pos': 0.197, 'comp...</td>\n",
       "    </tr>\n",
       "    <tr>\n",
       "      <th>1</th>\n",
       "      <td>0.0000</td>\n",
       "      <td>0.0</td>\n",
       "      <td>1.000</td>\n",
       "      <td>0.000</td>\n",
       "      <td>2</td>\n",
       "      <td>1</td>\n",
       "      <td>1</td>\n",
       "      <td>1</td>\n",
       "      <td>Oh, I told you. I couldn't close it. So...</td>\n",
       "      <td>jim</td>\n",
       "      <td>False</td>\n",
       "      <td>not Michael</td>\n",
       "      <td>0.000000</td>\n",
       "      <td>0.000000</td>\n",
       "      <td>{'neg': 0.0, 'neu': 1.0, 'pos': 0.0, 'compound...</td>\n",
       "    </tr>\n",
       "    <tr>\n",
       "      <th>2</th>\n",
       "      <td>0.0000</td>\n",
       "      <td>0.0</td>\n",
       "      <td>1.000</td>\n",
       "      <td>0.000</td>\n",
       "      <td>3</td>\n",
       "      <td>1</td>\n",
       "      <td>1</td>\n",
       "      <td>1</td>\n",
       "      <td>So you've come to the master for guidance? Is ...</td>\n",
       "      <td>michael</td>\n",
       "      <td>False</td>\n",
       "      <td>Michael</td>\n",
       "      <td>0.000000</td>\n",
       "      <td>0.000000</td>\n",
       "      <td>{'neg': 0.0, 'neu': 1.0, 'pos': 0.0, 'compound...</td>\n",
       "    </tr>\n",
       "    <tr>\n",
       "      <th>3</th>\n",
       "      <td>0.4215</td>\n",
       "      <td>0.0</td>\n",
       "      <td>0.714</td>\n",
       "      <td>0.286</td>\n",
       "      <td>4</td>\n",
       "      <td>1</td>\n",
       "      <td>1</td>\n",
       "      <td>1</td>\n",
       "      <td>Actually, you called me in here, but yeah.</td>\n",
       "      <td>jim</td>\n",
       "      <td>False</td>\n",
       "      <td>not Michael</td>\n",
       "      <td>0.100000</td>\n",
       "      <td>0.000000</td>\n",
       "      <td>{'neg': 0.0, 'neu': 0.714, 'pos': 0.286, 'comp...</td>\n",
       "    </tr>\n",
       "    <tr>\n",
       "      <th>4</th>\n",
       "      <td>0.2732</td>\n",
       "      <td>0.0</td>\n",
       "      <td>0.811</td>\n",
       "      <td>0.189</td>\n",
       "      <td>5</td>\n",
       "      <td>1</td>\n",
       "      <td>1</td>\n",
       "      <td>1</td>\n",
       "      <td>All right. Well, let me show you how it's done.</td>\n",
       "      <td>michael</td>\n",
       "      <td>False</td>\n",
       "      <td>Michael</td>\n",
       "      <td>0.535714</td>\n",
       "      <td>0.285714</td>\n",
       "      <td>{'neg': 0.0, 'neu': 0.811, 'pos': 0.189, 'comp...</td>\n",
       "    </tr>\n",
       "  </tbody>\n",
       "</table>\n",
       "</div>"
      ],
      "text/plain": [
       "   compound  neg    neu    pos  id  season  episode  scene  \\\n",
       "0    0.4927  0.0  0.803  0.197   1       1        1      1   \n",
       "1    0.0000  0.0  1.000  0.000   2       1        1      1   \n",
       "2    0.0000  0.0  1.000  0.000   3       1        1      1   \n",
       "3    0.4215  0.0  0.714  0.286   4       1        1      1   \n",
       "4    0.2732  0.0  0.811  0.189   5       1        1      1   \n",
       "\n",
       "                                           line_text  speaker  deleted  \\\n",
       "0  All right Jim. Your quarterlies look very good...  michael    False   \n",
       "1         Oh, I told you. I couldn't close it. So...      jim    False   \n",
       "2  So you've come to the master for guidance? Is ...  michael    False   \n",
       "3         Actually, you called me in here, but yeah.      jim    False   \n",
       "4    All right. Well, let me show you how it's done.  michael    False   \n",
       "\n",
       "        Stage1  subjectivity  polarity  \\\n",
       "0      Michael      0.657857  0.597857   \n",
       "1  not Michael      0.000000  0.000000   \n",
       "2      Michael      0.000000  0.000000   \n",
       "3  not Michael      0.100000  0.000000   \n",
       "4      Michael      0.535714  0.285714   \n",
       "\n",
       "                                              scores  \n",
       "0  {'neg': 0.0, 'neu': 0.803, 'pos': 0.197, 'comp...  \n",
       "1  {'neg': 0.0, 'neu': 1.0, 'pos': 0.0, 'compound...  \n",
       "2  {'neg': 0.0, 'neu': 1.0, 'pos': 0.0, 'compound...  \n",
       "3  {'neg': 0.0, 'neu': 0.714, 'pos': 0.286, 'comp...  \n",
       "4  {'neg': 0.0, 'neu': 0.811, 'pos': 0.189, 'comp...  "
      ]
     },
     "execution_count": 14,
     "metadata": {},
     "output_type": "execute_result"
    }
   ],
   "source": [
    "the_office_raw_script.head()"
   ]
  },
  {
   "cell_type": "markdown",
   "metadata": {},
   "source": [
    "we have all of the sentiment above, for a better comparison of "
   ]
  },
  {
   "cell_type": "code",
   "execution_count": 15,
   "metadata": {},
   "outputs": [],
   "source": [
    "the_office_class = the_office_raw_script[ (the_office_raw_script['speaker'] == 'jim') |\n",
    "                             (the_office_raw_script['speaker'] == 'michael') |\n",
    "                           (the_office_raw_script['speaker'] == 'pam') |\n",
    "                            (the_office_raw_script['speaker'] == 'andy') |\n",
    "                            (the_office_raw_script['speaker'] == 'dwight')]"
   ]
  },
  {
   "cell_type": "code",
   "execution_count": 16,
   "metadata": {},
   "outputs": [
    {
     "name": "stderr",
     "output_type": "stream",
     "text": [
      "C:\\Users\\JF\\Anaconda3\\lib\\site-packages\\ipykernel_launcher.py:1: SettingWithCopyWarning: \n",
      "A value is trying to be set on a copy of a slice from a DataFrame.\n",
      "Try using .loc[row_indexer,col_indexer] = value instead\n",
      "\n",
      "See the caveats in the documentation: http://pandas.pydata.org/pandas-docs/stable/indexing.html#indexing-view-versus-copy\n",
      "  \"\"\"Entry point for launching an IPython kernel.\n"
     ]
    }
   ],
   "source": [
    "the_office_class['num_speaker'] = the_office_class.speaker.map({'jim':1, 'michael':2, 'pam':3, 'andy':4, 'dwight':5})"
   ]
  },
  {
   "cell_type": "code",
   "execution_count": 17,
   "metadata": {},
   "outputs": [
    {
     "name": "stdout",
     "output_type": "stream",
     "text": [
      "Counter({2: 12153, 5: 7529, 1: 6815, 3: 5375, 4: 3968})\n"
     ]
    }
   ],
   "source": [
    "speaker = the_office_class['num_speaker']\n",
    "line_text = the_office_class['line_text']\n",
    "from collections import Counter\n",
    "print(Counter(speaker))"
   ]
  },
  {
   "cell_type": "code",
   "execution_count": 18,
   "metadata": {},
   "outputs": [],
   "source": [
    "\n",
    "from sklearn.utils import resample\n",
    "from sklearn.linear_model import LogisticRegression\n",
    "from sklearn.metrics import accuracy_score"
   ]
  },
  {
   "cell_type": "markdown",
   "metadata": {},
   "source": [
    "Boosting the number of samples in the speakers with lower lines. "
   ]
  },
  {
   "cell_type": "code",
   "execution_count": 20,
   "metadata": {},
   "outputs": [],
   "source": [
    "#pam\n",
    "the_office_class_pam = the_office_class[the_office_class['speaker'] == \"pam\"]\n",
    "the_office_class_pam_resample = resample(the_office_class_pam, \n",
    "                                         replace=True,     # sample with replacement\n",
    "                                         n_samples=12137,    # to match majority class\n",
    "                                         random_state=123) # reproducible results\n",
    " \n",
    "    \n",
    "the_office_class_jim = the_office_class[the_office_class['speaker'] == \"jim\"]\n",
    "the_office_class_jim_resample = resample(the_office_class_jim, \n",
    "                                         replace=True,     # sample with replacement\n",
    "                                         n_samples=12137,    # to match majority class\n",
    "                                         random_state=123) # reproducible results\n",
    "\n",
    "\n",
    "the_office_class_dwight = the_office_class[the_office_class['speaker'] == \"dwight\"]\n",
    "the_office_class_dwight_resample = resample(the_office_class_dwight, \n",
    "                                         replace=True,     # sample with replacement\n",
    "                                         n_samples=12137,    # to match majority class\n",
    "                                         random_state=123) # reproducible results\n",
    "\n",
    "the_office_class_andy = the_office_class[the_office_class['speaker'] == \"andy\"]\n",
    "the_office_class_andy_resample = resample(the_office_class_andy, \n",
    "                                         replace=True,     # sample with replacement\n",
    "                                         n_samples=12137,    # to match majority class\n",
    "                                         random_state=123) # reproducible results \n"
   ]
  },
  {
   "cell_type": "markdown",
   "metadata": {},
   "source": [
    "adding the speaker with the most lines back in"
   ]
  },
  {
   "cell_type": "code",
   "execution_count": 21,
   "metadata": {},
   "outputs": [],
   "source": [
    "the_office_class_michael = the_office_class[the_office_class['speaker'] == \"michael\"]"
   ]
  },
  {
   "cell_type": "code",
   "execution_count": 22,
   "metadata": {},
   "outputs": [],
   "source": [
    "df_upsampled = pd.concat([the_office_class_michael, \n",
    "                          the_office_class_andy_resample,\n",
    "                          the_office_class_dwight_resample,\n",
    "                          the_office_class_jim_resample,\n",
    "                          the_office_class_pam_resample ])"
   ]
  },
  {
   "cell_type": "code",
   "execution_count": 23,
   "metadata": {},
   "outputs": [
    {
     "data": {
      "text/plain": [
       "2    12153\n",
       "5    12137\n",
       "4    12137\n",
       "3    12137\n",
       "1    12137\n",
       "Name: num_speaker, dtype: int64"
      ]
     },
     "execution_count": 23,
     "metadata": {},
     "output_type": "execute_result"
    }
   ],
   "source": [
    "df_upsampled.num_speaker.value_counts()"
   ]
  },
  {
   "cell_type": "code",
   "execution_count": 24,
   "metadata": {},
   "outputs": [],
   "source": [
    "from sklearn.model_selection import train_test_split\n",
    "from sklearn.feature_extraction.text import CountVectorizer\n",
    "from sklearn.feature_extraction.text import TfidfTransformer\n",
    "from sklearn.naive_bayes import MultinomialNB\n",
    "\n",
    "\n",
    "X_train, X_test, y_train, y_test = train_test_split(df_upsampled['line_text'], df_upsampled['speaker'], random_state = 0)\n",
    "\n",
    "count_vect = CountVectorizer()\n",
    "\n",
    "X_train_counts = count_vect.fit_transform(X_train)\n",
    "\n",
    "tfidf_transformer = TfidfTransformer()\n",
    "\n",
    "X_train_tfidf = tfidf_transformer.fit_transform(X_train_counts)\n",
    "\n",
    "clf = MultinomialNB().fit(X_train_tfidf, y_train)"
   ]
  },
  {
   "cell_type": "code",
   "execution_count": 25,
   "metadata": {},
   "outputs": [
    {
     "name": "stdout",
     "output_type": "stream",
     "text": [
      "['dwight']\n"
     ]
    }
   ],
   "source": [
    "print(clf.predict(count_vect.transform([\"assistant to the reginal manager\"])))"
   ]
  },
  {
   "cell_type": "code",
   "execution_count": 26,
   "metadata": {},
   "outputs": [
    {
     "name": "stdout",
     "output_type": "stream",
     "text": [
      "['pam']\n"
     ]
    }
   ],
   "source": [
    "print(clf.predict(count_vect.transform([\"that's what she said\"])))"
   ]
  },
  {
   "cell_type": "code",
   "execution_count": null,
   "metadata": {},
   "outputs": [],
   "source": []
  }
 ],
 "metadata": {
  "kernelspec": {
   "display_name": "Python 3",
   "language": "python",
   "name": "python3"
  },
  "language_info": {
   "codemirror_mode": {
    "name": "ipython",
    "version": 3
   },
   "file_extension": ".py",
   "mimetype": "text/x-python",
   "name": "python",
   "nbconvert_exporter": "python",
   "pygments_lexer": "ipython3",
   "version": "3.6.5"
  }
 },
 "nbformat": 4,
 "nbformat_minor": 2
}
